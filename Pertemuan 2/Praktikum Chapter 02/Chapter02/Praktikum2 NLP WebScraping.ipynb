{
 "cells": [
  {
   "cell_type": "code",
   "execution_count": 4,
   "metadata": {},
   "outputs": [
    {
     "data": {
      "text/html": [
       "<div>\n",
       "<style scoped>\n",
       "    .dataframe tbody tr th:only-of-type {\n",
       "        vertical-align: middle;\n",
       "    }\n",
       "\n",
       "    .dataframe tbody tr th {\n",
       "        vertical-align: top;\n",
       "    }\n",
       "\n",
       "    .dataframe thead th {\n",
       "        text-align: right;\n",
       "    }\n",
       "</style>\n",
       "<table border=\"1\" class=\"dataframe\">\n",
       "  <thead>\n",
       "    <tr style=\"text-align: right;\">\n",
       "      <th></th>\n",
       "      <th>Titles</th>\n",
       "      <th>Prices</th>\n",
       "      <th>Ratings</th>\n",
       "    </tr>\n",
       "  </thead>\n",
       "  <tbody>\n",
       "    <tr>\n",
       "      <th>0</th>\n",
       "      <td>Asus VivoBook X441NA-GA190</td>\n",
       "      <td>$295.99</td>\n",
       "      <td>3</td>\n",
       "    </tr>\n",
       "    <tr>\n",
       "      <th>1</th>\n",
       "      <td>Prestigio SmartBook 133S Dark Grey</td>\n",
       "      <td>$299.00</td>\n",
       "      <td>2</td>\n",
       "    </tr>\n",
       "    <tr>\n",
       "      <th>2</th>\n",
       "      <td>Prestigio SmartBook 133S Gold</td>\n",
       "      <td>$299.00</td>\n",
       "      <td>4</td>\n",
       "    </tr>\n",
       "    <tr>\n",
       "      <th>3</th>\n",
       "      <td>Aspire E1-510</td>\n",
       "      <td>$306.99</td>\n",
       "      <td>3</td>\n",
       "    </tr>\n",
       "    <tr>\n",
       "      <th>4</th>\n",
       "      <td>Lenovo V110-15IAP</td>\n",
       "      <td>$321.94</td>\n",
       "      <td>3</td>\n",
       "    </tr>\n",
       "  </tbody>\n",
       "</table>\n",
       "</div>"
      ],
      "text/plain": [
       "                               Titles   Prices  Ratings\n",
       "0          Asus VivoBook X441NA-GA190  $295.99        3\n",
       "1  Prestigio SmartBook 133S Dark Grey  $299.00        2\n",
       "2       Prestigio SmartBook 133S Gold  $299.00        4\n",
       "3                       Aspire E1-510  $306.99        3\n",
       "4                   Lenovo V110-15IAP  $321.94        3"
      ]
     },
     "execution_count": 4,
     "metadata": {},
     "output_type": "execute_result"
    }
   ],
   "source": [
    "#!pip install requests\n",
    "#!pip install beautifulsoup4\n",
    "#!pip install pandas\n",
    "\n",
    "import requests\n",
    "from bs4 import BeautifulSoup\n",
    "import pandas as pd\n",
    "\n",
    "titles = []\n",
    "prices = []\n",
    "ratings = []\n",
    "url = 'https://webscraper.io/test-sites/e-commerce/allinone/computers/laptops'\n",
    "request = requests.get(url)\n",
    "soup = BeautifulSoup(request.text, \"html.parser\")\n",
    "for product in soup.find_all('div', {'class': 'col-sm-4 col-lg-4 col-md-4'}):\n",
    "    for pr in product.find_all('div', {'class': 'caption'}):\n",
    "        for p in pr.find_all('h4', {'class': 'pull-right price'}):\n",
    "            prices.append(p.text)\n",
    "        for title in pr.find_all('a' , {'title'}):\n",
    "            titles.append(title.get('title'))\n",
    "    for rt in product.find_all('div', {'class': 'ratings'}):\n",
    "        ratings.append(len(rt.find_all('span', {'class': 'glyphicon glyphicon-star'})))\n",
    "\n",
    "\n",
    "#build dataframe and export to csv            \n",
    "product_df = pd.DataFrame(zip(titles,prices,ratings), columns =['Titles', 'Prices', 'Ratings'])  \n",
    "product_df.head()\n",
    "product_df.to_csv(\"ecommerce.csv\",index=False)\n"
   ]
  },
  {
   "cell_type": "markdown",
   "metadata": {},
   "source": [
    "Kode di atas adalah contoh web scraping yang menggunakan library requests, BeautifulSoup, dan pandas untuk mengumpulkan data tentang produk laptop dari sebuah situs e-commerce. Pertama, daftar kosong untuk judul (titles), harga (prices), dan rating (ratings) didefinisikan. URL situs web yang ingin di-scrape disimpan dalam variabel url, dan permintaan HTTP dikirim menggunakan requests.get(url) untuk mengambil konten halaman tersebut. Setelah mendapatkan respons, BeautifulSoup digunakan untuk mengurai HTML dengan soup = BeautifulSoup(request.text, \"html.parser\").\n",
    "\n",
    "Selanjutnya, kode ini mencari semua elemen div yang berisi informasi produk, yang dikelompokkan berdasarkan kelas CSS. Dalam loop bersarang, harga produk diekstraksi dari elemen dengan kelas 'pull-right price', dan judul produk diambil dari elemen dengan atribut 'title'. Selain itu, rating produk dihitung berdasarkan jumlah bintang yang ditampilkan dalam elemen div dengan kelas 'ratings'. Setiap kali bintang ditemukan, angka rating untuk produk tersebut ditambahkan ke daftar ratings.\n",
    "\n",
    "Setelah semua data dikumpulkan, kode ini membangun DataFrame menggunakan pandas dengan menggabungkan daftar titles, prices, dan ratings, serta menetapkan nama kolom. Terakhir, DataFrame disimpan dalam file CSV bernama \"ecommerce.csv\" tanpa menyertakan indeks. Kode ini memberikan cara sistematis untuk mengumpulkan dan menyimpan data dari situs web untuk analisis lebih lanjut."
   ]
  }
 ],
 "metadata": {
  "kernelspec": {
   "display_name": "Python 3",
   "language": "python",
   "name": "python3"
  },
  "language_info": {
   "codemirror_mode": {
    "name": "ipython",
    "version": 3
   },
   "file_extension": ".py",
   "mimetype": "text/x-python",
   "name": "python",
   "nbconvert_exporter": "python",
   "pygments_lexer": "ipython3",
   "version": "3.12.1"
  }
 },
 "nbformat": 4,
 "nbformat_minor": 4
}
